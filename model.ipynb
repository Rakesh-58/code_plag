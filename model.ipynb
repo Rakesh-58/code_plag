{
 "cells": [
  {
   "cell_type": "code",
   "execution_count": 2,
   "metadata": {},
   "outputs": [],
   "source": [
    "import torch\n",
    "import torch.optim as optim\n",
    "import torch.nn as nn\n",
    "import pandas as pd\n",
    "from torch.utils.data import DataLoader, Dataset\n",
    "import numpy as np\n",
    "import matplotlib.pyplot as plt\n",
    "import seaborn as sns\n",
    "from sklearn.metrics import accuracy_score, confusion_matrix, precision_score, recall_score, f1_score, fbeta_score"
   ]
  },
  {
   "cell_type": "code",
   "execution_count": null,
   "metadata": {},
   "outputs": [],
   "source": [
    "loaded_data = np.load(\"embeddings/hyb_emb.npz\")\n",
    "embeddings = {key: loaded_data[key] for key in loaded_data}"
   ]
  },
  {
   "cell_type": "code",
   "execution_count": 6,
   "metadata": {},
   "outputs": [],
   "source": [
    "df = pd.read_csv('labels.csv')"
   ]
  },
  {
   "cell_type": "code",
   "execution_count": 7,
   "metadata": {},
   "outputs": [
    {
     "name": "stdout",
     "output_type": "stream",
     "text": [
      " \n"
     ]
    }
   ],
   "source": [
    "train_labels=pd.read_csv('train_pairs.csv')\n",
    "\n",
    "ast_pairs_train = []\n",
    "labels_train = []\n",
    "\n",
    "for _, row in train_labels.iterrows():  \n",
    "    temp = row['sub'].split('_')\n",
    "\n",
    "    if temp[0] in embeddings.keys() and temp[1] in embeddings.keys():\n",
    "        ast1 = embeddings[temp[0]]\n",
    "        ast2 = embeddings[temp[1]]\n",
    "        ast_pairs_train.append((ast1, ast2))\n",
    "        result = df[(df['sub1'] == temp[0]) & (df['sub2'] == temp[1])]\n",
    "        labels_train.append(result['verdict'].iloc[0])\n",
    "    else:\n",
    "        print(\"Error in \",temp[0],\" \",temp[1])\n",
    "\n",
    "test_labels = pd.read_csv('test_pairs.csv')\n",
    "\n",
    "print(\" \")\n",
    "\n",
    "ast_pairs_test = []\n",
    "labels_test = []\n",
    "\n",
    "for _,row in test_labels.iterrows():\n",
    "    temp = row['sub'].split('_')\n",
    "\n",
    "    if temp[0] in embeddings.keys() and temp[1] in embeddings.keys():\n",
    "        ast1 = embeddings[temp[0]]\n",
    "        ast2 = embeddings[temp[1]]\n",
    "        ast_pairs_test.append((ast1,ast2))\n",
    "        result = df[(df['sub1'] == temp[0]) & (df['sub2'] == temp[1])]\n",
    "        labels_test.append(result['verdict'].iloc[0])\n",
    "    else:\n",
    "        print(\"Error in \",temp[0],\" \",temp[1])\n",
    "   "
   ]
  },
  {
   "cell_type": "code",
   "execution_count": 8,
   "metadata": {},
   "outputs": [],
   "source": [
    "class CodePlagiarismDataset(Dataset):\n",
    "    def __init__(self,embed,lab):\n",
    "        self.embeddings1 = np.array([e[0] for e in embed])  # Convert string to array\n",
    "        self.embeddings2 = np.array([e[1] for e in embed])\n",
    "        self.labels = np.array(lab).astype(np.float32)\n",
    "\n",
    "    def __len__(self):\n",
    "        return len(self.labels)\n",
    "\n",
    "    def __getitem__(self, idx):\n",
    "        emb1 = torch.tensor(self.embeddings1[idx], dtype=torch.float32)\n",
    "        emb2 = torch.tensor(self.embeddings2[idx], dtype=torch.float32)\n",
    "        label = torch.tensor(self.labels[idx], dtype=torch.float32)\n",
    "\n",
    "        return emb1, emb2, label  "
   ]
  },
  {
   "cell_type": "code",
   "execution_count": 9,
   "metadata": {},
   "outputs": [],
   "source": [
    "class SiamesePlagiarismClassifier(nn.Module):\n",
    "    def __init__(self, input_size=1024):  # Updated input size\n",
    "        super(SiamesePlagiarismClassifier, self).__init__()\n",
    "\n",
    "        self.shared_fc = nn.Sequential(\n",
    "            nn.Linear(input_size, 512),  # Reduce from 896 to 512\n",
    "            nn.BatchNorm1d(512),  # Batch Normalization for stability\n",
    "            nn.ReLU(),\n",
    "            nn.Dropout(0.3),\n",
    "\n",
    "            nn.Linear(512, 256),  \n",
    "            nn.BatchNorm1d(256),\n",
    "            nn.ReLU(),\n",
    "            nn.Dropout(0.3),\n",
    "\n",
    "            nn.Linear(256, 128),  \n",
    "            nn.BatchNorm1d(128),\n",
    "            nn.ReLU(),\n",
    "            nn.Dropout(0.3),\n",
    "\n",
    "            nn.Linear(128, 64),  \n",
    "            nn.BatchNorm1d(64),\n",
    "            nn.ReLU(),\n",
    "            nn.Dropout(0.3)\n",
    "        \n",
    "        )\n",
    "\n",
    "        self.out = nn.Linear(64, 1)\n",
    "        self.sigmoid = nn.Sigmoid()\n",
    "\n",
    "    def forward(self, emb1, emb2):\n",
    "        emb1 = self.shared_fc(emb1)\n",
    "        emb2 = self.shared_fc(emb2)\n",
    "        similarity = torch.abs(emb1 - emb2)\n",
    "        return self.sigmoid(self.out(similarity))"
   ]
  },
  {
   "cell_type": "code",
   "execution_count": 10,
   "metadata": {},
   "outputs": [],
   "source": [
    "test_dataset = CodePlagiarismDataset(ast_pairs_train,labels_train)\n",
    "train_dataset = CodePlagiarismDataset(ast_pairs_test,labels_test)\n",
    "\n",
    "train_loader = DataLoader(train_dataset, batch_size=32, shuffle=False)\n",
    "test_loader = DataLoader(test_dataset, batch_size=32, shuffle=False)"
   ]
  },
  {
   "cell_type": "code",
   "execution_count": 11,
   "metadata": {},
   "outputs": [
    {
     "name": "stdout",
     "output_type": "stream",
     "text": [
      "Using device: cuda\n"
     ]
    }
   ],
   "source": [
    "device = torch.device(\"cuda\" if torch.cuda.is_available() else \"cpu\")\n",
    "print(f\"Using device: {device}\")"
   ]
  },
  {
   "cell_type": "code",
   "execution_count": 13,
   "metadata": {},
   "outputs": [
    {
     "name": "stdout",
     "output_type": "stream",
     "text": [
      "Epoch [1/100], Loss: 0.5839\n",
      "Epoch [2/100], Loss: 0.5190\n",
      "Epoch [3/100], Loss: 0.4649\n",
      "Epoch [4/100], Loss: 0.4284\n",
      "Epoch [5/100], Loss: 0.3723\n",
      "Epoch [6/100], Loss: 0.3802\n",
      "Epoch [7/100], Loss: 0.3319\n",
      "Epoch [8/100], Loss: 0.3052\n",
      "Epoch [9/100], Loss: 0.2891\n",
      "Epoch [10/100], Loss: 0.3098\n",
      "Epoch [11/100], Loss: 0.2362\n",
      "Epoch [12/100], Loss: 0.2322\n",
      "Epoch [13/100], Loss: 0.2041\n",
      "Epoch [14/100], Loss: 0.2047\n",
      "Epoch [15/100], Loss: 0.1572\n",
      "Epoch [16/100], Loss: 0.1695\n",
      "Epoch [17/100], Loss: 0.2773\n",
      "Epoch [18/100], Loss: 0.2305\n",
      "Epoch [19/100], Loss: 0.1998\n",
      "Epoch [20/100], Loss: 0.1672\n",
      "Epoch [21/100], Loss: 0.1539\n",
      "Epoch [22/100], Loss: 0.1214\n",
      "Epoch [23/100], Loss: 0.1263\n",
      "Epoch [24/100], Loss: 0.1457\n",
      "Epoch [25/100], Loss: 0.1656\n",
      "Epoch [26/100], Loss: 0.1028\n",
      "Epoch [27/100], Loss: 0.0914\n",
      "Epoch [28/100], Loss: 0.0996\n",
      "Epoch [29/100], Loss: 0.0963\n",
      "Epoch [30/100], Loss: 0.1058\n",
      "Epoch [31/100], Loss: 0.0814\n",
      "Epoch [32/100], Loss: 0.1329\n",
      "Epoch [33/100], Loss: 0.0985\n",
      "Epoch [34/100], Loss: 0.0957\n",
      "Epoch [35/100], Loss: 0.0992\n",
      "Epoch [36/100], Loss: 0.1272\n",
      "Epoch [37/100], Loss: 0.1119\n",
      "Epoch [38/100], Loss: 0.0672\n",
      "Epoch [39/100], Loss: 0.0722\n",
      "Epoch [40/100], Loss: 0.0581\n",
      "Epoch [41/100], Loss: 0.0602\n",
      "Epoch [42/100], Loss: 0.0433\n",
      "Epoch [43/100], Loss: 0.0819\n",
      "Epoch [44/100], Loss: 0.0610\n",
      "Epoch [45/100], Loss: 0.0701\n",
      "Epoch [46/100], Loss: 0.0498\n",
      "Epoch [47/100], Loss: 0.0680\n",
      "Epoch [48/100], Loss: 0.0984\n",
      "Epoch [49/100], Loss: 0.0942\n",
      "Epoch [50/100], Loss: 0.0974\n",
      "Epoch [51/100], Loss: 0.0496\n",
      "Epoch [52/100], Loss: 0.0573\n",
      "Epoch [53/100], Loss: 0.0469\n",
      "Epoch [54/100], Loss: 0.0748\n",
      "Epoch [55/100], Loss: 0.0472\n",
      "Epoch [56/100], Loss: 0.0735\n",
      "Epoch [57/100], Loss: 0.0575\n",
      "Epoch [58/100], Loss: 0.0460\n",
      "Epoch [59/100], Loss: 0.0305\n",
      "Epoch [60/100], Loss: 0.0370\n",
      "Epoch [61/100], Loss: 0.0288\n",
      "Epoch [62/100], Loss: 0.0584\n",
      "Epoch [63/100], Loss: 0.0612\n",
      "Epoch [64/100], Loss: 0.0367\n",
      "Epoch [65/100], Loss: 0.0434\n",
      "Epoch [66/100], Loss: 0.0648\n",
      "Epoch [67/100], Loss: 0.0315\n",
      "Epoch [68/100], Loss: 0.0420\n",
      "Epoch [69/100], Loss: 0.0434\n",
      "Epoch [70/100], Loss: 0.0396\n",
      "Epoch [71/100], Loss: 0.0363\n",
      "Epoch [72/100], Loss: 0.0300\n",
      "Epoch [73/100], Loss: 0.0202\n",
      "Epoch [74/100], Loss: 0.0266\n",
      "Epoch [75/100], Loss: 0.0206\n",
      "Epoch [76/100], Loss: 0.0148\n",
      "Epoch [77/100], Loss: 0.0189\n",
      "Epoch [78/100], Loss: 0.0274\n",
      "Epoch [79/100], Loss: 0.0568\n",
      "Epoch [80/100], Loss: 0.0369\n",
      "Epoch [81/100], Loss: 0.0564\n",
      "Epoch [82/100], Loss: 0.0324\n",
      "Epoch [83/100], Loss: 0.0468\n",
      "Epoch [84/100], Loss: 0.0657\n",
      "Epoch [85/100], Loss: 0.0722\n",
      "Epoch [86/100], Loss: 0.0318\n",
      "Epoch [87/100], Loss: 0.0367\n",
      "Epoch [88/100], Loss: 0.0494\n",
      "Epoch [89/100], Loss: 0.0599\n",
      "Epoch [90/100], Loss: 0.0426\n",
      "Epoch [91/100], Loss: 0.0442\n",
      "Epoch [92/100], Loss: 0.0518\n",
      "Epoch [93/100], Loss: 0.0254\n",
      "Epoch [94/100], Loss: 0.0191\n",
      "Epoch [95/100], Loss: 0.0250\n",
      "Epoch [96/100], Loss: 0.0451\n",
      "Epoch [97/100], Loss: 0.0203\n",
      "Epoch [98/100], Loss: 0.0147\n",
      "Epoch [99/100], Loss: 0.0173\n",
      "Epoch [100/100], Loss: 0.0092\n"
     ]
    }
   ],
   "source": [
    "model = SiamesePlagiarismClassifier(input_size = 1024).to(device)\n",
    "criterion = nn.BCELoss()\n",
    "optimizer = optim.Adam(model.parameters(), lr=0.01)\n",
    "\n",
    "# Training loop\n",
    "num_epochs = 100\n",
    "for epoch in range(num_epochs):\n",
    "    model.train()\n",
    "    epoch_loss = 0\n",
    "    for emb1, emb2, labels in train_loader:\n",
    "        emb1, emb2, labels = emb1.to(device), emb2.to(device), labels.to(device)\n",
    "        \n",
    "        optimizer.zero_grad()\n",
    "        outputs = model(emb1, emb2).squeeze()\n",
    "        loss = criterion(outputs, labels)\n",
    "        loss.backward()\n",
    "        optimizer.step()\n",
    "        \n",
    "        epoch_loss += loss.item()\n",
    "\n",
    "    print(f\"Epoch [{epoch+1}/{num_epochs}], Loss: {epoch_loss/len(train_loader):.4f}\")\n",
    "\n"
   ]
  },
  {
   "cell_type": "code",
   "execution_count": null,
   "metadata": {},
   "outputs": [],
   "source": [
    "torch.save(model.state_dict(), 'models/100_bert.pth')"
   ]
  },
  {
   "cell_type": "code",
   "execution_count": 15,
   "metadata": {},
   "outputs": [],
   "source": [
    "def plot_confusion_matrix(y_true, y_pred):\n",
    "    cm = confusion_matrix(y_true, y_pred)\n",
    "    \n",
    "    plt.figure(figsize=(5, 4))\n",
    "    sns.heatmap(cm, annot=True, fmt=\"d\", cmap=\"Blues\",\n",
    "                xticklabels=[\"Non-Plagiarized\", \"Plagiarized\"],\n",
    "                yticklabels=[\"Non-Plagiarized\", \"Plagiarized\"])\n",
    "    \n",
    "    plt.xlabel(\"Predicted\")\n",
    "    plt.ylabel(\"Actual\")\n",
    "    plt.title(\"Confusion Matrix\")\n",
    "    plt.show()"
   ]
  },
  {
   "cell_type": "code",
   "execution_count": 17,
   "metadata": {},
   "outputs": [
    {
     "name": "stdout",
     "output_type": "stream",
     "text": [
      "Test Accuracy: 0.8377\n",
      "Precision: 0.6951\n",
      "Recall: 0.8261\n",
      "F1-Score: 0.7550\n",
      "F1.5-Score: 0.7808\n"
     ]
    },
    {
     "data": {
      "image/png": "[encoded data removed]",
      "text/plain": [
       "<Figure size 500x400 with 2 Axes>"
      ]
     },
     "metadata": {},
     "output_type": "display_data"
    }
   ],
   "source": [
    "model.eval()\n",
    "\n",
    "#val_model = SiamesePlagiarismClassifier().to(device)\n",
    "#val_model.load_state_dict(torch.load('50_hyb.pth', map_location=device))\n",
    "\n",
    "#val_model.eval()\n",
    "\n",
    "all_labels = []\n",
    "all_predictions = []\n",
    "\n",
    "with torch.no_grad():\n",
    "    for emb1, emb2, labels in test_loader:\n",
    "        emb1, emb2, labels = emb1.to(device), emb2.to(device), labels.to(device)\n",
    "        outputs = model(emb1, emb2).squeeze()\n",
    "        predictions = (outputs > 0.412).float() \n",
    "\n",
    "        all_labels.extend(labels.cpu().numpy()) \n",
    "        all_predictions.extend(predictions.cpu().numpy())\n",
    "\n",
    "# Compute accuracy, precision, recall, and F1-score\n",
    "accuracy = accuracy_score(all_labels, all_predictions)\n",
    "precision = precision_score(all_labels, all_predictions)\n",
    "recall = recall_score(all_labels, all_predictions)\n",
    "f1 = f1_score(all_labels, all_predictions)\n",
    "f15 = fbeta_score(all_labels, all_predictions, beta=1.5)\n",
    "\n",
    "\n",
    "print(f\"Test Accuracy: {accuracy:.4f}\")\n",
    "print(f\"Precision: {precision:.4f}\")\n",
    "print(f\"Recall: {recall:.4f}\")\n",
    "print(f\"F1-Score: {f1:.4f}\")\n",
    "print(f\"F1.5-Score: {f15:.4f}\")\n",
    "\n",
    "plot_confusion_matrix(all_labels, all_predictions)"
   ]
  }
 ],
 "metadata": {
  "kernelspec": {
   "display_name": ".venv",
   "language": "python",
   "name": "python3"
  },
  "language_info": {
   "codemirror_mode": {
    "name": "ipython",
    "version": 3
   },
   "file_extension": ".py",
   "mimetype": "text/x-python",
   "name": "python",
   "nbconvert_exporter": "python",
   "pygments_lexer": "ipython3",
   "version": "3.12.6"
  }
 },
 "nbformat": 4,
 "nbformat_minor": 2
}
